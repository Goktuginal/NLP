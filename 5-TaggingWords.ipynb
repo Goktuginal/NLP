{
 "cells": [
  {
   "cell_type": "code",
   "execution_count": 3,
   "metadata": {},
   "outputs": [],
   "source": [
    "# Categorizing and Tagging Words\n",
    "\n",
    "from nltk import *"
   ]
  },
  {
   "cell_type": "code",
   "execution_count": 7,
   "metadata": {},
   "outputs": [
    {
     "data": {
      "text/plain": [
       "[('And', 'CC'),\n",
       " ('now', 'RB'),\n",
       " ('for', 'IN'),\n",
       " ('something', 'NN'),\n",
       " ('completely', 'RB'),\n",
       " ('different', 'JJ')]"
      ]
     },
     "execution_count": 7,
     "metadata": {},
     "output_type": "execute_result"
    }
   ],
   "source": [
    "text = word_tokenize(\"And now for something completely different\")\n",
    "nltk.pos_tag(text)"
   ]
  },
  {
   "cell_type": "code",
   "execution_count": 10,
   "metadata": {},
   "outputs": [
    {
     "name": "stdout",
     "output_type": "stream",
     "text": [
      "['is', 'said', 'was', 'are', 'be', 'has', 'have', 'will', 'says', 'would', 'were', 'had', 'been', 'could', \"'s\", 'can', 'do', 'say', 'make', 'may', 'did', 'rose', 'made', 'does', 'expected', 'buy', 'take', 'get', 'might', 'sell', 'added', 'sold', 'help', 'including', 'should', 'reported', 'according', 'pay', 'compared', 'being', 'fell', 'began', 'based', 'used', 'closed', \"'re\", 'want', 'see', 'took', 'yield', 'offered', 'set', 'priced', 'approved', 'come', 'noted', 'cut', 'ended', 'found', 'increased', 'become', 'think', 'named', 'go', 'trying', 'proposed', 'received', 'growing', 'declined', 'held', 'give', 'came', 'use', 'put', 'making', 'continue', 'raise', 'estimated', 'called', 'paid', 'designed', 'going', 'expects', 'seeking', 'must', 'plans', 'wo', 'increasing', 'saying', 'got', 'owns', 'trading', 'acquired', 'gained', 'fined', 'reached', 'holding', 'announced', 'filed', 'became', 'seek', 'included', 'using', 'led', 'decided', 'keep', 'disclosed', 'agreed', 'find', 'failed', 'run', 'taken', 'know', 'coming', \"'ve\", 'completed', 'built', 'raised', 'traded', 'lost', 'continued', 'paying', 'include', 'believe', 'receive', 'posted', 'wants', 'scheduled', 'went', 'indicated', 'provide', 'helped', 'needed', 'goes', 'told', 'result', 'need', 'caused', 'continues', 'dropped', 'showed', 'ordered', 'changed', 'face', 'continuing', 'launched', 'gives', 'reduce', \"'m\", 'lead', 'planned', 'wanted', 'following', 'remains', 'followed', 'remain', 'meet', 'believes', 'trade', 'includes', 'improve', 'buying', 'issued', 'rise', 'leading', 'ca', 'involved', 'known', 'like', 'makes', 'having', 'rejected', 'rising', 'increase', 'turned', 'operating', 'read', 'feel', 'win', 'given', 'prevent', 'offset', 'barred', 'earned', 'consented', 'support', 'gave', 'totaled', 'acquire', 'required', 'begin', 'require', 'offer', 'preferred', 'produced', 'bought', 'offering', 'asked', 'carry', 'build', 'takes', 'seem', 'introduced', 'taking', 'won', 'aimed', 'hurt', 'adds', 'cited', 'sought', 'bring', 'remaining', 'considered', 'suspended', 'prove', 'looking', 'doing', 'involving', 'opened', 'working', 'close', 'own', 'report', 'left', 'boosted', 'giving', 'fixed', 'listed', 'runs', 'purchasing', 'consider', 'prepared', 'hit', 'getting', 'alleged', 'look', 'allowed', 'approve', 'wrote', 'reduced', 'fall', 'advanced', 'appears', 'mixed', 'described', 'expect', 'manufacturing', 'spent', 'According', 'hopes', 'underlying', 'produce', 'work', 'placed', 'allow', 'sells', 'operate', 'extend', 'surged', 'jumped', 'boost', 'slowing', 'provided', 'seems', 'ending', 'selling', 'opposed', 'created', 'move', 'seen', 'comment', 'valued', 'losing', 'mature', 'provides', 'let', 'stopped', 'worked', 'thought', 'watch', 'introduce', 'related', 'improved', 'raising', 'seemed', 'force', 'beginning', 'leave', 'believed', 'stand', 'developed', 'decline', 'expire', 'managing', 'hold', 'invested', 'suggests', 'represent', 'settle', 'change', 'contributed', 'indicates', 'asking', 'elaborate', 'shows', 'refused', 'quoted', 'comes', 'ease', 'passed', 'Says', 'avoid', 'threatened', 'cause', 'end', 'violate', 'operates', 'kept', \"'ll\", 'soared', 'eliminated', 'becomes', 'create', 'print', 'shall', 'show', 'replaced', 'owned', 'argue', 'beat', 'elected', 'complete', 'issue', 'act', 'return', 'registered', 'suffer', 'worried', 'succeed', 'block', 'contain', 'occur', 'pursue', 'combined', 'requires', 'met', 'brought', 'started', 'covered', 'turn', 'running', 'eliminate', 'file', 'plunged', 'fallen', 'ran', 'fired', 'becoming', 'contained', 'managed', 'Take', 'suggested', 'accused', 'appeared', 'slow', 'helping', 'discovered', 'add', 'referred', 'oppose', 'stop', 'claim', 'sent', 'formed', 'resulting', 'turning', 'limited', 'shipped', 'forced', 'send', 'attract', 'admitting', 'denying', 'disgorge', 'attributed', 'causing', 'studied', 'resigned', 'cutting', 'voted', 'settled', 'expand', 'stood', 'retired', 'moved', 'pending', 'providing', 'anticipated', 'decide', 'creating', 'prompted', 'developing', 'start', 'maintained', 'expanding', 'follows', 'ranged', 'focused', 'climbed', 'reflect', 'insist', 'owed', 'happen', 'adjusted', 'awarded', 'reporting', 'talk', 'offers', 'written', 'urged', 'carried', 'identified', 'confirmed', 'playing', 'thinking', 'calls', 'means', 'tried', 'lying', 'asks', 'building', 'suggest', 'falling', 'discuss', 'matched', 'concluded', 'keeping', \"'d\", 'returned', 'withdrawn', 'bid', 'saw', 'signed', 'financing', 'assuming', 'adopted', 'attempting', 'accepted', 'cover', 'facing', 'risk', 'expanded', 'leaving', 'raises', 'declared', 'exercise', 'finished', 'regarding', 'finance', 'charge', 'starting', 'realize', 'felt', 'remained', 'expressed', 'done', 'replace', 'veto', 'stay', 'delivered', 'join', 'publishing', 'enters', 'appear', 'talking', 'heard', 'dumped', 'imported', 'assume', 'declining', 'capture', 'grew', 'holds', 'lift', 'treat', 'receiving', 'joined', 'reflecting', 'released', 'maintaining', 'cost', 'lowered', 'costs', 'exceed', 'gaining', 'considering', 'determined', 'ruled', 'hope', 'located', 'tied', 'heads', 'applied', 'failing', 'showing', 'apply', 'protecting', 'tells', 'complained', 'ask', 'triggered', 'entered', 'total', 'producing', 'denied', 'reducing', 'reflects', 'account', 'predicting', 'intended', 'purchased', 'blamed', 'worry', 'broken', 'carries', 'learned', 'renewed', 'walk', 'viewed', 'die', 'speculated', 'needs', 'gets', 'wait', 'caught', 'claims', 'choose', 'fail', 'insists', 'knows', 'pass', 'grown', 'gotten', 'grows', 'responded', 'play', 'try', 'mean', 'encourage', 'chosen', 'admits', 'Do', 'dismissed', 'realized', 'serve', 'associated', 'slipped', 'argued', 'citing', 'seeks', 'preventing', 'sparked', 'review', 'opening', 'fueled', 'negotiate', 'drop', 'pleased', 'spend', 'care', 'represents', 'spread', 'explains', 'push', 'divided', 'proposing', 'gain', 'representing', 'financed', 'execute', 'existing', 'discussed', 'uses', 'live', 'ring', 'signal', 'focus', 'hired', 'limit', 'begins', 'reflected', 'hear', 'determine', 'profit', 'marketed', 'warned', 'qualified', 'died', 'surviving', 'study', 'explained', 'imposed', 'recognize', 'eased', 'indicate', 'permit', 'retain', 'yielding', 'boosts', 'obtain', 'employs', 'banned', 'pointed', 'leaves', 'withdraw', 'refund', 'collected', 'upheld', 'benefited', 'doubled', 'attached', 'jump', 'compete', 'incurred', 'removed', 'honor', 'varying', 'marketing', 'protect', 'reach', 'share', 'requested', 'grant', 'stepping', 'direct', 'curb', 'controlling', 'snapped', 'tend', 'cast', 'clear', 'permitted', 'remove', 'revive', 'draw', 'predicted', 'suspect', 'coupled', 'belong', 'call', 'describes', 'played', 'committed', 'advertising', 'tested', 'revived', 'earns', 'feeling', 'turns', 'executed', 'killed', 'presented', 'deserve', 'mention', 'seeing', 'discussing', 'convicted', 'telling', 'agree', 'denies', 'pursued', 'spurred', 'accommodate', 'surrendered', 'gone', 'teach', 'booming', 'serving', 'restore', 'restructured', 'taught', 'feared', 'meant', 'adding', 'publishes', 'improving', 'ignoring', 'represented', 'funded', 'involve', 'charged', 'fared', 'eliminates', 'tumbled', 'redeemed', 'resolve', 'stem', 'hire', 'obtained', 'develop', 'employed', 'prohibits', 'promote', 'impose', 'consist', 'investigating', 'accepting', 'plan', 'insisted', 'contacted', 'note', 'driving', 'contends', 'cites', 'point', 'sign', 'printed', 'advertise', 'breaks', 'damaged', 'check', 'thinks', 'looming', 'expecting', 'exercised', 'auctioned', 'disappointed', 'subordinated', 'respond', 'secured', 'integrated', 'performed', 'targeting', 'stepped', 'moving', 'split', 'Buy', 'stemming', 'executing', 'shut', 'writing', 'regulated', 'stands', 'attend', 'reopen', 'drawn', 'Put', 'notes', 'weaken', 'trailed', 'deliver', 'occurred', 'changing', 'accept', 'expelled', 'amounted', 'scrutinizing', 'suspend', 'compares', 'backed', 'vote', 'covers', 'knew', 'joining', 'record', 'regarded', 'copy', 'conclude', 'ought', 'dominated', 'pushed', 'closing', 'rumored', 'respected', 'specified', 'understand', 'supported', 'perform', 'declaring', 'struggling', 'abandoned', 'considers', 'warning', 'offsetting', 'break', 'follow', 'figure', 'increases', 'proving', 'edged', 'Buying', 'forecast', 'specify', 'extended', 'tendered', 'unveiled', 'treating', 'exposed', 'industrialized', 'regulate', 'contracted', 'blip', 'vary', 'slid', 'succeeds', 'lifted', 'acts', 'welcomed', 'squeezed', 'fed', 'casting', 'prolonged', 'recorded', 'announce', 'reward', 'bowed', 'justify', 'asserted', 'appealing', 'faces', 'rule', 'inched', 'manufacture', 'fund', 'anticipates', 'link', 'describe', 'roll', 'calculate', 'transferring', 'favored', 'claiming', 'hurting', 'investing', 'trained', 'instituted', 'introducing', 'vowed', 'deemed', 'pose', 'concerned', 'accelerated', 'feels', 'solved', 'forgiven', 'stored', 'assembled', 'totaling', 'linked', 'forces', 'attempts', 'advertised', 'marks', 'sweeping', 'invest', 'kicked', 'brings', 'scrambled', 'diversify', 'swing', 'skyrocketed', 'targeted', 'repaid', 'open', 'crippled', 'lent', 'belongs', 'stressed', 'leveling', 'manufactured', 'pick', 'cite', 'provoke', 'last', 'climbing', 'Excluding', 'adjusting', 'counts', 'handle', 'polled', 'drink', 'sets', 'sidestep', 'fare', 'letting', 'entering', 'ban', 'visiting', 'endorsed', 'balked', 'compensate', 'terminated', 'modify', 'operated', 'entitles', 'romanticized', 'spends', 'condemned', 'competing', 'returning', 'murdered', 'load', 'lives', 'recommend', 'fighting', 'fills', 'charges', 'exist', 'Stung', 'banning', 'admitted', 'talks', 'launch', 'attracted', 'featured', 'devote', 'featuring', 'suing', 'shrinks', 'tripled', 'pumping', 'contributing', 'spur', 'concentrated', 'export', 'pull', 'approach', 'step', 'regard', 'breach', 'pleaded', 'inspired', 'defended', 'treated', 'casts', 'violated', 'enforce', 'surfaced', 'concentrate', 'stressing', 'suffered', 'loved', 'advised', 'studying', 'pushing', 'earn', 'save', 'interviewed', 'explain', 'gauge', 'measured', 'deny', 'hampered', 'fill', 'nominated', 'assured', 'finding', 'conducting', 'tracks', 'merge', 'merged', 'banking', 'achieve', 'acquiring', 'post', 'wish', 'retained', 'spark', 'chaired', 'deal', 'submit', 'sending', 'test', 'relegated', 'alleging', 'mounted', 'harass', 'crossing', 'involves', 'assist', 'killing', 'served', 'understood', 'touch', 'Asked', 'design', 'retaining', 'belonging', 'compiled', 'Guaranteed', 'positioned', 'plunging', 'locked', 'starts', 'waiting', 'rolled', 'lock', 'drifted', 'measures', 'Estimated', 'keeps', 'laughing', 'persuade', 'renew', 'survive', 'Founded', 'identify', 'chastised', 'pointing', 'question', 'sleep', 'handled', 'specializes', 'pressed', 'ward', 'sweetened', 'allocated', 'criticized', 'place', 'mired', 'responding', 'requiring', 'address', 'praised', 'noting', 'withstand', 'phasing', 'installed', 'joins', 'prevailing', 'succeeding', 'weighed', 'perceived', 'remarked', 'appeal', 'lowering', 'moderated', 'posting', 'agrees', 'stated', 'reject', 'fails', 'redeem', 'estimates', 'frozen', 'advancing', 'rushed', 'supplies', 'surprised', 'collapsed', 'answer', 'licensed', 'disagree', 'focusing', 'publicized', 'pressure', 'clarify', 'view', 'putting', 'reports', 'feed', 'declines', 'Adds', 'drive', 'omitted', 'assumed', 'lure', 'qualify', 'throws', 'targets', 'promoting', 'target', 'switched', 'enabling', 'scrambling', 'define', 'demanding', 'ailing', 'delay', 'Think', 'arguing', 'hitting', 'regulating', 'sounded', 'train', 'worries', 'rung', 'invented', 'weigh', 'sound', 'speaks', 'absorbed', 'swap', 'ringing', 'publish', 'founded', 'signing', 'observed', 'desired', 'kill', 'risen', 'sustained', 'sued', 'commit', 'easing', 'traveling', 'welcome', 'loaded', 'states', 'passing', 'spending', 'puts', 'transacting', 'engaged', 'plays', 'resist', 'marching', 'cope', 'drove', 'pegged', 'compromise', 'enacted', 'faced', 'negotiated', 'implies', 'fold', 'winning', 'Assuming', 'Taking', 'flows', 'relies', 'stimulating', 'confined', 'planning', 'abandon', 'funding', 'lose', 'install', 'upset', 'hang', 'promises', 'sees', 'house', 'preserving', 'covering', 'resulted', 'proved', 'examined', 'lack', 'lacks', 'connected', 'subscribe', 'underwent', 'conduct', 'predict', 'organized', 'diminished', 'purchase', 'tune', 'enables', 'intend', 'answered', 'reshaping', 'oriented', 'controlled', 'restructuring', 'eliminating', 'naming', 'lending', 'Posted', 'succeeded', 'signals', 'withhold', 'contradict', 'placing', 'rewrite', 'nominate', 'choosing', 'prevents', 'implement', 'discharge', 'establish', 'entrusted', 'works', 'extending', 'benefit', 'range', 'exceeding', 'attempted', 'recovered', 'encouraging', 'begun', 'maximize', 'chooses', 'fly', 'engage', 'obligated', 'recover', 'labeled', 'refuse', 'denounce', 'occurs', 'seize', 'halted', 'transformed', 'complains', 'trades', 'beaten', 'performing', 'match', 'contribute', 'surrounding', 'tolerate', 'affect', 'bearing', 'creates', 'limiting', 'denouncing', 'cooled', 'overcome', 'cautioned', 'rated', 'indicating', 'sink', 'claimed', 'benefits', 'discontinued', 'maintain', 'meaning', 'competes', 'selected', 'participate', 'bolstered', 'unveil', 'devise', 'falls', 'doubted', 'attempt', 'ship', 'curtail', 'confirm', 'diluted', 'write', 'subdued', 'exchange', 'liquidated', 'capitalized', 'shrank', 'reaching', 'narrowed', 'specialized', 'bribed', 'shipping', 'strike', 'diagnosed', 'classified', 'outlawed', 'poured', 'hung', 'ventilated', 'slide', 'tracked', 'lengthened', 'pour', 'invests', 'waiving', 'ensnarled', 'default', 'oversee', 'jet', 'raced', 'hauled', 'drooled', 'boarding', 'renovated', 'Knowing', 'eat', 'tempts', 'accumulated', 'underscore', 'guaranteed', 'awards', 'shore', 'matters', 'values', 'evaluated', 'emerges', 'attracts', 'speed', 'cluttered', 'refile', 'expedited', 'entertain', 'slash', 'tracking', 'disputed', 'audit', 'collecting', 'refunded', 'setting', 'arising', 'diversifying', 'depend', 'scrapped', 'needing', 'complicate', 'existed', 'Regarded', 'watching', 'harms', 'offending', 'discouraging', 'deterring', 'lauded', 'aid', 'initialing', 'amending', 'compel', 'enact', 'specializing', 'craft', 'merit', 'halve', 'aspires', 'CHANGED', 'store', 'adapted', 'reaches', 'Following', 'divest', 'achieved', 'wallowing', 'resume', 'assisted', 'redeploy', 'channel', 'addressing', 'incorporated', 'Pick', 'capped', 'quips', 'mirrors', 'issuing', 'stake', 'stretching', 'urge', 'emerging', 'outpaced', 'burned', 'whipsaw', 'clobbered', 'alarmed', 'fattened', 'jumping', 'seized', 'amended', 'satisfying', 'booked', 'taper', 'slip', 'watched', 'conforms', 'eases', 'accounts', 'contrast', 'signaling', 'delivering', 'abating', 'lengthen', 'gauges', 'import', 'acknowledging', 'numbered', 'Judging', 'whistle', 'recognizing', 'refreshing', 'perpetuate', 'rooted', 'mark', 'meets', 'wears', 'published', 'dominating', 'expands', 'depending', 'abide', 'wear', 'rationed', 'hosted', 'invades', 'assigned', 'frustrating', 'invent', 'bans', 'restricts', 'designated', 'surveyed', 'espouse', 'undertaking', 'back', 'name', 'establishing', 'strapped', 'twinned', 'authorized', 'painted', 'exchanging', 'accrued', 'swapped', 'laid', 'obsessed', 'refitting', 'shot', 'Filmed', 'noticing', 'jostle', 'hangs', 'populated', 'curled', 'sketching', 'returns', 'cure', 'alerts', 'tuck', 'dreamed', 'resonate', 'glamorize', 'ends', 'collaborated', 'enabled', 'chopped', 'eating', 'drinking', 'celebrate', 'accounting', 'scattered', 'ushering', 'attack', 'hid', 'prosecute', 'unleashed', 'Compare', 'argues', 'superimposed', 'nurtured', 'dissolves', 'transforming', 'shake', 'recalling', \"C'mon\", 'interjects', 'interrogated', 'lasted', 'carrying', 'aired', 'Remember', 'Consider', 'rusted', 'swim', 'purrs', 'cry', 'cleaned', 'devastating', 'propelling', 'sparking', 'posing', 'knitted', 'forcing', 'encourages', 'resists', 'swelling', 'offend', 'parallel', 'assemble', 'reasserts', 'designing', 'outstrips', 'outranks', 'voice', 'convey', 'monopolize', 'sew', 'spotted', 'Confronted', 'answers', 'display', 'underline', 'prosecuted', 'enhanced', 'cheat', 'bolster', 'depended', 'inflated', 'suspects', 'revising', 'telegraph', 'posts', 'rates', 'prosecuting', 'Standing', 'educated', 'faded', 'bled', 'stabbed', 'resolved', 'clean', 'ushered', 'Being', 'dreamt', 'struggled', 'distinguished', 'pair', 'prepare', 'polish', 'correcting', 'deteriorating', 'Winning', 'demand', 'attending', 'copied', 'broke', 'cared', 'defeats', 'concedes', 'recalls', 'crowded', 'testify', 'decried', 'overused', 'enraged', 'expunged', 'cranked', 'evaluating', 'touched', 'justifying', 'defeat', 'aces', 'replicated', 'devised', 'awarding', 'rate', 'replicate', 'contains', 'replicating', 'discontinue', 'implant', 'recommended', 'embroiled', 'recruit', 'opposes', 'imposing', 'defuse', 'head', 'judged', 'disturbs', 'moves', 'polarized', 'exists', 'warns', 'discourage', 'regenerate', 'Rekindled', 'averaged', 'anticipating', 'permitting', 'uptick', 'expires', 'favor', 'leapt', 'protected', 'receives', 'acted', 'red-flag', 'Filling', 'tip', 'condemning', 'prohibited', 'disclosing', 'orders', 'committing', 'initiated', 'dating', 'mailed', 'relating', 'quitting', 'quipped', 'blinks', 'punish', 'reviewing', 'consists', 'punishing', 'retaliating', 'UPHELD', 'bar', 'obtaining', 'advocate', 'CLEARS', 'sentencing', 'referring', 'cruising', 'picking', 'appointed', 'commenting', 'Observing', 'exhibited', 'discredit', 'empowered', 'manipulate', 'SWITCHING', 'specialize', 'apologizing', 'indulging', 'rebuked', 'fretted', 'summoned', 'apologize', 'sacrificing', 'complain', 'undercut', 'slashing', 'map', 'emerge', 'lagging', 'switch', 'phase', 'equals', 'counting', 'fabricate', 'Related', 'converting', 'speculate', 'buoyed', 'underpin', 'reasons', 'convinced', 'erode', 'traced', 'mollified', 'redeeming', 'recede', 'air', 'fuming', 'tell', 'flooded', 'fawning', 'thumbing', 'billed', 'combines', 'happens', 'flush', 'deem', 'alienated', 'practicing', 'fumes', 'portrayed', 'relied', 'recycled', 'scared', 'replies', 'supply', 'serviced', 'Developed', 'pitches', 'top', 'characterizing', 'entrench', 'confuse', 'materialize', 'converted', 'equip', 'equipped', 'urging', 'classed', 'weighing', 'depressed', 'installing', 'enclosed', 'transporting', 'retires', 'lay', 'retiring', 'single', 'rarefied', 'zoomed', 'boast', 'inching', 'crack', 'encroaching', 'steal', 'commanded', 'command', 'happening', 'exhausted', 'ripen', 'yielded', 'Is', 'Offering', 'wins', 'talked', 'excited', 'overpriced', 'walking', 'achieving', 'shown', 'resisting', 'tilt', 'mailing', 'warrants', 'expired', 'postponed', 'rescheduled', 'maturing', 'refunding', 'approves', 'clearing', 'decides', 'aim', 'book', 'Continuing', 'evaporated', 'contract', 'rebuffed', 'reviewed', 'clamped', 'lessening', 'agreeing', 'spurns', 'replacing', 'interested', 'challenging', 'license', 'combat', 'patented', 'color', 'perceives', 'stirred', 'impending', 'devoted', 'escalated', 'stoked', 'asserting', 'highlight', 'clarified', 'sorting', 'crossed', 'gauging', 'trust', 'improves', 'penetrate', 'guided', 'treats', 'milked', 'bankroll', 'parallels', 'catch', 'foundering', 'queuing', 'generate', 'double', 'ai', 'pine', 'checking', 'competed', 'bundling', 'segmenting', 'saving', 'borrowing', 'borrowed', 'aiming', 'tailoring', 'packaging', 'begot', 'computerize', 'analyze', 'worrying', 'cultivated', 'attracting', 'rewarding', 'flourish', 'tailored', 'amend', 'delete', 'resubmit', 'develops', 'markets', 'Send', 'Make', 'teetering', 'Performing', 'experience', 'troubled', 'builds', 'sagging', 'institute', 'reinstating', 'skidded', 'lessen', 'reopened', 'knocked', 'synchronized', 'aggravated', 'directing', 'lapses', 'heating', 'angered', 'annoyed', 'attended', 'evoke', 'cascading', 'calling', 'chat', 'enjoying', 'herald', 'sounding', 'scrape', 'drift', 'diminish', 'pealing', 'descending', 'altering', 'state', 'memorize', 'pulling', 'disappears', 'snaking', 'muffled', 'stare', 'time', 'advance', 'retard', 'finds', 'filled', 'stays', 'stuck', 'skip', 'sit', 'dwindling', 'pressing', 'sacked', 'rings', 'refuses', 'aims', 'speak', 'entitled', 'attacking', 'fainting', 'dressed', 'decorated', 'faint', 'bless', 'unsettled', 'breathe', 'warn', 'mating', 'sliding', 'pushes', 'tanked', 'escaped', 'behaving', 'factors', 'forecasting', 'declare', 'measure', 'Having', 'infringed', 'established', 'enter', 'discontinuing', 'servicing', 'lacked', 'spoke', 'afflicted', 'harped', 'seduce', 'reciting', 'reminded', 'ordering', 'speaking', 'reprove', 'mend', 'deteriorated', 'codified', 'brief', 'pulled', 'acknowledge', 'shoot', 'hoped', 'encounter', 'arrived', 'encircling', 'discarded', 'clicked', 'Lure', 'accusing', 'jeopardizing', 'barking', 'visited', 'Earns', 'disapprove', 'imply', 'perpetuates', 'defined', 'disciplined', 'Reached', 'rectified', 'differ', 'complaining', 'screwed', 'breaking', 'blocked', 'emigrate', 'loom', 'shrug', 'overlap', 'exploit', 'imagine', 'racing', 'forgotten', 'tightened', 'reaped', 'ascribe', 'serves', 'unwind', 'manages', 'bend', 'Adopting', 'touted', 'impart', 'fought', 'acceded', 'Can', 'entice', 'negotiating', 'opens', 'Given', 'overpaying', 'picked', 'researching', 'arrest', 'occupying', 'impressed', 'fundraising', 'enticed', 'befuddled', 'demonstrating', 'possessed', 'skipped', 'Moving', 'graduated', 'engineered', 'inherited', 'buffet', 'attributes', 'concentrating', 'diversified', 'contrasts', 'provoked', 'shaping', 'authorizing', 'reallocate', 'draws', 'stripped', 'reallocated', 'broadened', 'upsetting', 'instructed', 'drafted', 'insert', 'waived', 'bounce', 'Takes', 'AGREES', 'repaired', 'crashing', 'prefer', 'teaches', 'blocks', 'Competes', 'PORTING', 'resembles', 'tote', 'acknowledges', 'Touches', 'travel', 'learn', 'Fails', \"'S\", 'propose', 'altered', 'counteract', 'correct', 'cooperating', 'corrected', 'promised', 'removing', 'safeguarding', 'contest', 'contesting', 'implied', 'quoting', 'emphasized', 'predispose', 'composed', 'defying', 'possess', 'exhibits', 'living', 'quote', 'robbed', 'fend', 'dismiss', 'sleeping', 'bothered', 'chose', 'insinuating', 'participated', 'Choose', 'deprived', 'views', 'override', 'impede', 'impaired', 'overriding', 'dubbed', 'broadcasting', 'propagandize', 'sounds', 'propagandizes', 'viewing', 'inform', 'clipped', 'broadcasts', 'copying', 'photocopying', 'transcribe', 'reprint', 'happened', 'disseminate', 'preclude', 'disseminating', 'mentioned', 'appearing', 'requesting', 'examine', 'disagreed', 'proscribes', 'abridging', 'prescribe', 'assure', 'mind', 'sends', 'photocopy', 'wield', 'dividing', 'searching', 'reacted', 'wound', 'advocated', 'convince', 'applaud', 'exuded', 'sitting', 'OFFERED', 'Annualized', 'clashed', 'evolved', 'enjoyed', 'centers', 'recruited', 'intimidate', 'uttering', 'Provided', 'guarding', 'predicated', 'construed', 'emasculate', 'swallow', 'ensure', 'deliberating', 'containing', 'strip', 'places', 'appoint', 'empowers', 'granting', 'repeals', 'imposes', 'recommending', 'select', 'inquiring', 'subjecting', 'prohibiting', 'wasted', 'illustrates', 'usurp', 'administer', 'disapproved', 'amounts', 'invite', 'suit', 'undo', 'ratified', 'assert', 'restricting', 'trespass', 'characterized', 'excise', 'conflict', 'exerting', 'asserts', 'sue', 'loses', 'presumes', 'drawing', 'deducting', 'saved', 'reclaim', 'mortgaged', 'soaring', 'reclaimed', 'parched', 'profited', 'confirms', 'helps', 'curtailed', 'strengthened', 'log', 'cushioned', 'dominates', 'materialized', 'torn', 'staid', 'flirted', 'folded', 'looks', 'brightened', 'restored', 'limping', 'recruiting', 'crying', 'filling', 'headlined', 'Closes', 'Forget', 'handed', 'beleaguered', 'boosting', 'explaining', 'disclose', 'approached', 'project', 'broaden', 'screened', 'missed', 'preapproved', 'test-drive', 'recovering', 'retraced', 'accounted', 'betting', 'vested', 'engaging', 'exhaust', 'quashing', 'shaken', 'reeling', 'heated', 'control', 'reap', 'exacerbated', 'consisting', 'Defending', 'mobilizing', 'bludgeon', 'telephone', 'rallying', 'Kill', 'wedded', 'waited', 'sneaked', 'conceding', 'headed', 'curbed', 'pitting', 'battle', 'entrenched', 'facilitate', 'stacked', 'portray', 'beg', 'constitute', 'profess', 'despise', 'frightened', 'unload', 'manage', 'juggle', 'mirror', 'automated', 'threatens', 'striving', 'dislike', 'spooked', 'stacking', 'scaring', 'resent', 'orchestrated', 'hunker', 'gored', 'proven', 'minted', 'Sit', 'panic', 'enjoy', 'chase', 'protects', 'destroy', 'picks', 'practiced', 'leveraging', 'owning', 'arise', 'evolve', 'evoking', 'implemented', 'Reducing', 'responds', 'causes', 'initiating', 'transfers', 'functioning', 'decrease', 'sacrifice', 'Eliminate', 'Encouraging', 'labeling', 'please', 'concern', 'undergoing', 'scream', 'hailing', 'abounding', 'Could', 'wooing', 'bringing', 'Getting', 'abolishing', 'championing', 'cater', 'advise', 'amass', 'devouring', 'grapple', 'Legislating', 'Left', 'matter', 'inviting', 'transfer', 'executes', 'fear', 'augment', 'appropriated', 'notify', 'completing', 'stifle', 'sanctions', 'inhibit', 'noticed', 'ratcheting', 'initiatives', 'backing', 'gains', 'documented', 'fetching', 'DIALING', 'eyeing', 'migrate', 'predicts', 'TRIMMING', 'string', 'colored', 'prompts', 'Funded', 'Concerned', 'shrinking', 'stresses', 'spurned', 'spurring', 'doubts', 'echoed', 'heading', 'blames', 'overvalued', 'spook', 'curbing', 'Citing', 'outlawing', 'disappear', 'dealing', 'decries', 'adapting', 'factoring', 'comments', 'Arbitraging', 'defends', 'recouped', 'weather', 'hunted', 'controls', 'promise', 'bombarding', 'breathed', 'demonstrates', 'undercutting', 'changes', 'pins', 'Determining', 'enable', 'combine', 'Rated', 'insured', 'digs', 'afford', 'ranging', 'scoffs', 'looked', 'redistribute', 'fielded', 'concede', 'endorse', 'disagrees', 'justified', 'erect', 'erodes', 'shoring', 'structured', 'stretch', 'downgraded', 'acquires', 'generated', 'arranged', 'rebounding', 'overstated', 'circulated', 'experiencing', 'midsized', 'eclipse', 'stretched', 'debate', 'recall', 'Beginning', 'assessed', 'duck', 'twisting', 'reversed', 'chilled', 'hidden', 'favors', 'accompany', 'introduces', 'even', 'understands', 'trash', 'inserted', 'refer', 'harmed', 'wrecking', 'smothering', 'Declining', 'outnumbered', 'surge', 'directed', 'stimulated', 'affecting', 'tempted', 'overdone', 'hugging', 'shed', 'tender', 'waive', 'sweeten', 'shopping', 'notched', 'searched', 'calculated', 'equaling', 'Hold', 'tackle', 'paint', 'spackle', 'charging', 'disposed', 'Named', 'stayed', 'revised', 'worsen', 'conducted', 'ranked', 'blurred', 'varied', 'enhances', 'compare', 'topped', 'outdistanced', 'wanting', 'relaunched', 'repriced', 'Bucking', 'drew', 'exceeds', 'underperforming', 'guarantee', 'hailed', 'despised', 'junk', 'subsidize', 'sparing', 'sticking', 'avoiding', 'present', 'appease', 'burn', 'tinker', 'resign', 'co-founded', 'coordinate', 'disconnect', 'heightened', 'routes', 'scans', 'resumes', 'halt', 'slides', 'Used', 'zip', 'handles', 'nullified', 'swapping', 'multiplying', 'mimics', 'signifying', 'puzzled', 'position', 'challenge', 'rebound', 'notified', 'tapping', 'land', 'cleared', 'delisted', 'oust', 'explore', 'trail', 'emerged', 'muscling', 'singled', 'sagged', 'granted', 'am', 'confused', 'complicated', 'fuel', 'muted', 'Continued', 'buys', 'ignored', 'secede', 'free', 'rang', 'accrue', 'termed', 'stemmed', 'deter', 'magnified', 'nonrecurring', 'reimbursed', 'Advancing', 'arrive', 'firmed', 'faltered', 'awaits', 'sense', 'stick', 'mount', 'withdrew', 'convert', 'distributed', 'experienced', 'Depending', 'customized', 'simulates', 'softening', 'distributes', 'produces', 'outbid', 'derived', 'averted', 'slated', 'realestate', 'adopt', 'staying', 'reorganized', 'plagued', 'bounced', 'ENDED', 'reaffirmed', 'thwart', 'demobilize', 'brushed', 'renewing', 'fled', 'armed', 'neighboring', 'violating', 'sabotage', 'assassinated', 'avenge', 'implements', 'pledged', 'impeding', 'defeated', 'rigged', 'Am', 'subpoenaed', 'planted', 'exploded', 'Died', 'tendering', 'laying', 'centralized', 'climb', 'APPEARS', 'steps', 'resigning', 'depends', 'fizzled', 'fault', 'flies', 'restructure', 'mulling', 'mitigate', 'reserved', 'restructures', 'battered', 'floated', 'shopped', 'spun', 'capitalize', 'Note', 'induce', 'advocating', 'rating', 'engineering', 'shedding', 'injuring', 'investigate', 'defines', 'assess', 'estimate', 'questioned', 'trim', 'trimmed', 'detailed', 'reading', 'traveled', 'revolves', 'rolling', 'mandates', 'born', 'falsify', 'plugged', 'rebuilding', 'Starting', 'bribing', 'fashioned', 'befell', 'wrestling', 'arrested', 'Absorbed', 'doling', 'gloss', 'expressing', 'scoop', 'redistributing', 'influencing', 'brokering', 'line', 'form', 'finalized', 'lease', 'avert', 'injecting', 'dashed', 'repay', 'sputtered', 'harvested', 'loading', 'reaping', 'gyrate', 'scrounge', 'trimming', 'feeds', 'sank', 'alleviate', 'slowed', 'hamstrung', 'budding', 'rebuild', 'depleted', 'winding', 'speculating', 'gather', 'permits', 'projects', 'relieve', 'hauling', 'compressed', 'delayed', 'tightening', 'influenced', 'precedes', 'points', 'riding', 'earning', 'plummeted', 'exceeded', 'coated', 'soliciting', 'scuttle', 'authorizes', 'shared', 'supports']"
     ]
    }
   ],
   "source": [
    "wsj = nltk.corpus.treebank.tagged_words(tagset='universal')\n",
    "word_tag_fd = nltk.FreqDist(wsj)\n",
    "print([wt[0] for (wt, _) in word_tag_fd.most_common() if wt[1] == 'VERB'], end='')"
   ]
  },
  {
   "cell_type": "code",
   "execution_count": 11,
   "metadata": {},
   "outputs": [
    {
     "data": {
      "text/plain": [
       "[('VERB', 28), ('NOUN', 20)]"
      ]
     },
     "execution_count": 11,
     "metadata": {},
     "output_type": "execute_result"
    }
   ],
   "source": [
    "cfd1 = nltk.ConditionalFreqDist(wsj)\n",
    "cfd1['yield'].most_common()"
   ]
  },
  {
   "cell_type": "code",
   "execution_count": 27,
   "metadata": {},
   "outputs": [
    {
     "name": "stdout",
     "output_type": "stream",
     "text": [
      "VERB  ADV  ADP  ADJ    .  PRT \n",
      "  37    8    7    6    4    2 \n"
     ]
    }
   ],
   "source": [
    "brown_learned_text = nltk.corpus.brown.words(categories='learned')\n",
    "sorted(set(b for (a, b) in nltk.bigrams(brown_learned_text) if a == 'often'))\n",
    "brown_lrnd_tagged = nltk.corpus.brown.tagged_words(categories='learned', tagset='universal')\n",
    "tags = [b[1] for (a, b) in nltk.bigrams(brown_lrnd_tagged) if a[0] == 'often']\n",
    "fd = nltk.FreqDist(tags)\n",
    "fd.tabulate()"
   ]
  },
  {
   "cell_type": "code",
   "execution_count": 37,
   "metadata": {},
   "outputs": [],
   "source": [
    "# from nltk.corpus import brown\n",
    "# def process(sentence):\n",
    "#     for (w1,t1), (w2,t2), (w3,t3) in nltk.trigrams(sentence):\n",
    "#         if (t1.startswith('V') and t2 == 'TO' and t3.startswith('V')):\n",
    "#             print(w1, w2, w3)\n",
    "#\n",
    "# for tagged_sent in brown.tagged_sents():\n",
    "#     process(tagged_sent)"
   ]
  },
  {
   "cell_type": "code",
   "execution_count": 39,
   "metadata": {},
   "outputs": [
    {
     "data": {
      "text/plain": [
       "['blazy',\n",
       " 'bleezy',\n",
       " 'blowzy',\n",
       " 'boozy',\n",
       " 'breezy',\n",
       " 'bronzy',\n",
       " 'buzzy',\n",
       " 'Chazy',\n",
       " 'cozy',\n",
       " 'crazy',\n",
       " 'dazy',\n",
       " 'dizzy',\n",
       " 'dozy',\n",
       " 'enfrenzy',\n",
       " 'fezzy',\n",
       " 'fizzy',\n",
       " 'floozy',\n",
       " 'fozy',\n",
       " 'franzy',\n",
       " 'frenzy',\n",
       " 'friezy',\n",
       " 'frizzy',\n",
       " 'frowzy',\n",
       " 'furzy',\n",
       " 'fuzzy',\n",
       " 'gauzy',\n",
       " 'gazy',\n",
       " 'glazy',\n",
       " 'groszy',\n",
       " 'hazy',\n",
       " 'heezy',\n",
       " 'Izzy',\n",
       " 'jazzy',\n",
       " 'Jozy',\n",
       " 'lawzy',\n",
       " 'lazy',\n",
       " 'mazy',\n",
       " 'mizzy',\n",
       " 'muzzy',\n",
       " 'nizy',\n",
       " 'oozy',\n",
       " 'quartzy',\n",
       " 'quizzy',\n",
       " 'refrenzy',\n",
       " 'ritzy',\n",
       " 'Shortzy',\n",
       " 'sizy',\n",
       " 'sleazy',\n",
       " 'sneezy',\n",
       " 'snoozy',\n",
       " 'squeezy',\n",
       " 'Suzy',\n",
       " 'tanzy',\n",
       " 'tizzy',\n",
       " 'topazy',\n",
       " 'trotcozy',\n",
       " 'twazzy',\n",
       " 'unbreezy',\n",
       " 'unfrizzy',\n",
       " 'wheezy',\n",
       " 'woozy',\n",
       " 'wuzzy',\n",
       " 'yezzy']"
      ]
     },
     "execution_count": 39,
     "metadata": {},
     "output_type": "execute_result"
    }
   ],
   "source": [
    "last_letters = defaultdict(list)\n",
    "words = nltk.corpus.words.words('en')\n",
    "for word in words:\n",
    "    key = word[-2:]\n",
    "    last_letters[key].append(word)\n",
    "\n",
    "last_letters['zy']"
   ]
  },
  {
   "cell_type": "code",
   "execution_count": 45,
   "metadata": {},
   "outputs": [
    {
     "data": {
      "text/plain": [
       "['entrail', 'latrine', 'ratline', 'reliant', 'retinal', 'trenail']"
      ]
     },
     "execution_count": 45,
     "metadata": {},
     "output_type": "execute_result"
    }
   ],
   "source": [
    "anagrams = defaultdict(list)\n",
    "for word in words:\n",
    "    key = ''.join(sorted(word))\n",
    "    anagrams[key].append(word)\n",
    "\n",
    "anagrams['aeilnrt']"
   ]
  },
  {
   "cell_type": "code",
   "execution_count": 52,
   "metadata": {},
   "outputs": [
    {
     "data": {
      "text/plain": [
       "0.13089484257215028"
      ]
     },
     "execution_count": 52,
     "metadata": {},
     "output_type": "execute_result"
    }
   ],
   "source": [
    "from nltk.corpus import brown\n",
    "brown_tagged_sents = brown.tagged_sents(categories='news')\n",
    "brown_sents = brown.sents(categories='news')\n",
    "\n",
    "raw = 'I do not like green eggs and ham, I do not like them Sam I am!'\n",
    "tokens = nltk.word_tokenize(raw)\n",
    "default_tagger = nltk.DefaultTagger('NN')\n",
    "default_tagger.tag(tokens)\n",
    "[('I', 'NN'), ('do', 'NN'), ('not', 'NN'), ('like', 'NN'), ('green', 'NN'),\n",
    "('eggs', 'NN'), ('and', 'NN'), ('ham', 'NN'), (',', 'NN'), ('I', 'NN'),\n",
    "('do', 'NN'), ('not', 'NN'), ('like', 'NN'), ('them', 'NN'), ('Sam', 'NN'),\n",
    "('I', 'NN'), ('am', 'NN'), ('!', 'NN')]\n",
    "default_tagger.evaluate(brown_tagged_sents)"
   ]
  },
  {
   "cell_type": "code",
   "execution_count": 55,
   "metadata": {},
   "outputs": [
    {
     "data": {
      "text/plain": [
       "0.45578495136941344"
      ]
     },
     "execution_count": 55,
     "metadata": {},
     "output_type": "execute_result"
    }
   ],
   "source": [
    "fd = nltk.FreqDist(brown.words(categories='news'))\n",
    "cfd = nltk.ConditionalFreqDist(brown.tagged_words(categories='news'))\n",
    "most_freq_words = fd.most_common(100)\n",
    "likely_tags = dict((word, cfd[word].max()) for (word, _) in most_freq_words)\n",
    "baseline_tagger = nltk.UnigramTagger(model=likely_tags)\n",
    "baseline_tagger.evaluate(brown_tagged_sents)"
   ]
  },
  {
   "cell_type": "code",
   "execution_count": 58,
   "metadata": {},
   "outputs": [
    {
     "data": {
      "text/plain": [
       "[('``', '``'),\n",
       " ('Only', None),\n",
       " ('a', 'AT'),\n",
       " ('relative', None),\n",
       " ('handful', None),\n",
       " ('of', 'IN'),\n",
       " ('such', None),\n",
       " ('reports', None),\n",
       " ('was', 'BEDZ'),\n",
       " ('received', None),\n",
       " (\"''\", \"''\"),\n",
       " (',', ','),\n",
       " ('the', 'AT'),\n",
       " ('jury', None),\n",
       " ('said', 'VBD'),\n",
       " (',', ','),\n",
       " ('``', '``'),\n",
       " ('considering', None),\n",
       " ('the', 'AT'),\n",
       " ('widespread', None),\n",
       " ('interest', None),\n",
       " ('in', 'IN'),\n",
       " ('the', 'AT'),\n",
       " ('election', None),\n",
       " (',', ','),\n",
       " ('the', 'AT'),\n",
       " ('number', None),\n",
       " ('of', 'IN'),\n",
       " ('voters', None),\n",
       " ('and', 'CC'),\n",
       " ('the', 'AT'),\n",
       " ('size', None),\n",
       " ('of', 'IN'),\n",
       " ('this', 'DT'),\n",
       " ('city', None),\n",
       " (\"''\", \"''\"),\n",
       " ('.', '.')]"
      ]
     },
     "execution_count": 58,
     "metadata": {},
     "output_type": "execute_result"
    }
   ],
   "source": [
    "sent = brown.sents(categories='news')[3]\n",
    "baseline_tagger.tag(sent)"
   ]
  },
  {
   "cell_type": "code",
   "execution_count": 59,
   "metadata": {},
   "outputs": [],
   "source": [
    "baseline_tagger = nltk.UnigramTagger(model=likely_tags,\n",
    "                              backoff=nltk.DefaultTagger('NN'))"
   ]
  },
  {
   "cell_type": "code",
   "execution_count": 62,
   "metadata": {},
   "outputs": [],
   "source": [
    "# The Lookup tagger\n",
    "\n",
    "def performance(cfd, wordlist):\n",
    "    lt = dict((word, cfd[word].max()) for word in wordlist)\n",
    "    baseline_tagger = nltk.UnigramTagger(model=lt, backoff=nltk.DefaultTagger('NN'))\n",
    "    return baseline_tagger.evaluate(brown.tagged_sents(categories='news'))\n",
    "\n",
    "def display():\n",
    "    import pylab\n",
    "    word_freqs = nltk.FreqDist(brown.words(categories='news')).most_common()\n",
    "    words_by_freq = [w for (w, _) in word_freqs]\n",
    "    cfd = nltk.ConditionalFreqDist(brown.tagged_words(categories='news'))\n",
    "    sizes = 2 ** pylab.arange(15)\n",
    "    perfs = [performance(cfd, words_by_freq[:size]) for size in sizes]\n",
    "    pylab.plot(sizes, perfs, '-bo')\n",
    "    pylab.title('Lookup Tagger Performance with Varying Model Size')\n",
    "    pylab.xlabel('Model Size')\n",
    "    pylab.ylabel('Performance')\n",
    "    pylab.show()"
   ]
  },
  {
   "cell_type": "code",
   "execution_count": 63,
   "metadata": {},
   "outputs": [
    {
     "data": {
      "image/png": "[encoded data removed]",
      "text/plain": [
       "<Figure size 432x288 with 1 Axes>"
      ]
     },
     "metadata": {
      "needs_background": "light"
     },
     "output_type": "display_data"
    }
   ],
   "source": [
    "display()"
   ]
  },
  {
   "cell_type": "code",
   "execution_count": 65,
   "metadata": {},
   "outputs": [
    {
     "data": {
      "text/plain": [
       "0.9349006503968017"
      ]
     },
     "execution_count": 65,
     "metadata": {},
     "output_type": "execute_result"
    }
   ],
   "source": [
    "# Unigram Tagging\n",
    "\n",
    "from nltk.corpus import brown\n",
    "brown_tagged_sents = brown.tagged_sents(categories='news')\n",
    "brown_sents = brown.sents(categories='news')\n",
    "unigram_tagger = nltk.UnigramTagger(brown_tagged_sents)\n",
    "unigram_tagger.tag(brown_sents[2007])\n",
    "[('Various', 'JJ'), ('of', 'IN'), ('the', 'AT'), ('apartments', 'NNS'),\n",
    "('are', 'BER'), ('of', 'IN'), ('the', 'AT'), ('terrace', 'NN'), ('type', 'NN'),\n",
    "(',', ','), ('being', 'BEG'), ('on', 'IN'), ('the', 'AT'), ('ground', 'NN'),\n",
    "('floor', 'NN'), ('so', 'QL'), ('that', 'CS'), ('entrance', 'NN'), ('is', 'BEZ'),\n",
    "('direct', 'JJ'), ('.', '.')]\n",
    "unigram_tagger.evaluate(brown_tagged_sents)"
   ]
  },
  {
   "cell_type": "code",
   "execution_count": 67,
   "metadata": {},
   "outputs": [
    {
     "data": {
      "text/plain": [
       "0.8121200039868434"
      ]
     },
     "execution_count": 67,
     "metadata": {},
     "output_type": "execute_result"
    }
   ],
   "source": [
    "size = int(len(brown_tagged_sents) * 0.9)\n",
    "size\n",
    "4160\n",
    "train_sents = brown_tagged_sents[:size]\n",
    "test_sents = brown_tagged_sents[size:]\n",
    "unigram_tagger = nltk.UnigramTagger(train_sents)\n",
    "unigram_tagger.evaluate(test_sents)"
   ]
  },
  {
   "cell_type": "code",
   "execution_count": 68,
   "metadata": {},
   "outputs": [
    {
     "data": {
      "text/plain": [
       "0.8452108043456593"
      ]
     },
     "execution_count": 68,
     "metadata": {},
     "output_type": "execute_result"
    }
   ],
   "source": [
    "t0 = nltk.DefaultTagger('NN')\n",
    "t1 = nltk.UnigramTagger(train_sents, backoff=t0)\n",
    "t2 = nltk.BigramTagger(train_sents, backoff=t1)\n",
    "t2.evaluate(test_sents)"
   ]
  },
  {
   "cell_type": "code",
   "execution_count": null,
   "metadata": {},
   "outputs": [],
   "source": []
  }
 ],
 "metadata": {
  "kernelspec": {
   "display_name": "Python 3",
   "language": "python",
   "name": "python3"
  },
  "language_info": {
   "codemirror_mode": {
    "name": "ipython",
    "version": 3
   },
   "file_extension": ".py",
   "mimetype": "text/x-python",
   "name": "python",
   "nbconvert_exporter": "python",
   "pygments_lexer": "ipython3",
   "version": "3.8.3"
  }
 },
 "nbformat": 4,
 "nbformat_minor": 4
}
