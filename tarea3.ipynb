{
 "cells": [
  {
   "cell_type": "code",
   "execution_count": 1,
   "metadata": {},
   "outputs": [
    {
     "name": "stdout",
     "output_type": "stream",
     "text": [
      "9.0\n"
     ]
    }
   ],
   "source": [
    "import nltk\n",
    "from nltk import *\n",
    "from nltk.tag import AffixTagger \n",
    "from nltk.tag import tnt \n",
    "from nltk.tag import DefaultTagger \n",
    "\n",
    "s_tagged = nltk.corpus.cess_esp.tagged_sents()\n",
    "\n",
    "f_list = []\n",
    "t_list = []\n",
    "for sent in s_tagged:\n",
    "    for word, tag in sent:\n",
    "        f_list.append((word, tag))\n",
    "    t_list.append(f_list)\n",
    "    f_list = []\n",
    "    \n",
    "cut = int(0.9 * len(s_tagged))\n",
    "training_data = s_tagged[:cut]\n",
    "test_data = s_tagged[cut:]\n",
    "text == training_data + test_data                      #True\n",
    "print(len(training_data) / len(test_data))"
   ]
  },
  {
   "cell_type": "code",
   "execution_count": 2,
   "metadata": {},
   "outputs": [],
   "source": [
    "portion = int(0.1 * len(t_list))\n",
    "\n",
    "train1K = t_list[:portion]\n",
    "train2K = t_list[portion:portion*2]\n",
    "train3K = t_list[portion*2:portion*3]\n",
    "train4K = t_list[portion*3:portion*4]\n",
    "train5K = t_list[portion*4:portion*5]\n",
    "train6K = t_list[portion*5:portion*6]\n",
    "train7K = t_list[portion*6:portion*7]\n",
    "train8K = t_list[portion*7:portion*8]\n",
    "train9K = t_list[portion*8:portion*9]\n",
    "train10K = t_list[portion*9:portion*10]\n",
    "\n",
    "complete = train1K + train2K + train3K + train4K + train5K + train6K + train7K + train8K + train9K + train10K"
   ]
  },
  {
   "cell_type": "code",
   "execution_count": 7,
   "metadata": {},
   "outputs": [],
   "source": [
    "from random import shuffle\n",
    "\n",
    "shuffle(complete)\n",
    "\n",
    "train_list = []\n",
    "test_list = []\n",
    "sufix_accuracy = []\n",
    "\n",
    "# You can change affix_length to determine how many letters count\n",
    "\n",
    "def AffixT(training_data, test_data):\n",
    "    sufix_tag = AffixTagger(training_data, affix_length = -1) \n",
    "    return sufix_tag.evaluate(test_data) \n",
    "    \n",
    "for flag in range(10):\n",
    "    for i in range(10):\n",
    "        if i == flag:\n",
    "            test_list = complete[portion*(i):portion*(i+1)]\n",
    "        else:\n",
    "            train_list.append(complete[portion*(i):portion*(i+1)])\n",
    "    train_list = train_list[0] + train_list[1] + train_list[2] + train_list[3] + train_list[4] + train_list[5] + train_list[6] + train_list[7] + train_list[8]\n",
    "    sufix_accuracy.append(AffixT(train_list, test_list))\n",
    "    train_list.clear()\n",
    "    test_list.clear()"
   ]
  },
  {
   "cell_type": "code",
   "execution_count": 4,
   "metadata": {},
   "outputs": [
    {
     "name": "stdout",
     "output_type": "stream",
     "text": [
      "Suffix accuracy - last 3 letters \n",
      "\n",
      "0.2746946082561078\n",
      "0.27247701656884643\n",
      "0.27590072057646114\n",
      "0.26743827160493827\n",
      "0.2749028749028749\n",
      "0.2751296616448506\n",
      "0.278451825418611\n",
      "0.2759783386124451\n",
      "0.27151051625239003\n",
      "0.2779934613812832\n"
     ]
    }
   ],
   "source": [
    "# Best result\n",
    "\n",
    "print(\"Suffix accuracy - last 3 letters \\n\")\n",
    "for i in sufix_accuracy:\n",
    "    print(i)"
   ]
  },
  {
   "cell_type": "code",
   "execution_count": 6,
   "metadata": {},
   "outputs": [
    {
     "name": "stdout",
     "output_type": "stream",
     "text": [
      "Suffix accuracy - last 2 letters \n",
      "\n",
      "0.25222720016478706\n",
      "0.25150958256760303\n",
      "0.25015657620041754\n",
      "0.25093413045799084\n",
      "0.2600990099009901\n",
      "0.2488089204257476\n",
      "0.2530259050331343\n",
      "0.24554341575618172\n",
      "0.2517132993249858\n",
      "0.2587869203693312\n"
     ]
    }
   ],
   "source": [
    "print(\"Suffix accuracy - last 2 letters \\n\")\n",
    "for i in sufix_accuracy:\n",
    "    print(i)"
   ]
  },
  {
   "cell_type": "code",
   "execution_count": 8,
   "metadata": {},
   "outputs": [
    {
     "name": "stdout",
     "output_type": "stream",
     "text": [
      "Suffix accuracy - last 1 letters \n",
      "\n",
      "0.21731639026491492\n",
      "0.22146779830254618\n",
      "0.22416812609457093\n",
      "0.22410379324718632\n",
      "0.21925048892647603\n",
      "0.22500380845985885\n",
      "0.223704076497232\n",
      "0.2219998973885383\n",
      "0.22529896359287802\n",
      "0.22745444161777686\n"
     ]
    }
   ],
   "source": [
    "# Worst result\n",
    "\n",
    "print(\"Suffix accuracy - last 1 letters \\n\")\n",
    "for i in sufix_accuracy:\n",
    "    print(i)"
   ]
  },
  {
   "cell_type": "code",
   "execution_count": 27,
   "metadata": {},
   "outputs": [],
   "source": [
    "# Best results we get when we use sufix [-3] which is, around 0.27\n",
    "# So that I am going to use that parameter for TnT tagger\n",
    "\n",
    "s_tagged = nltk.corpus.cess_esp.tagged_sents()\n",
    "\n",
    "fTnT_list = []\n",
    "tTnT_list = []\n",
    "for sent in s_tagged:\n",
    "    for word, tag in sent:\n",
    "        fTnT_list.append((word, tag))\n",
    "    tTnT_list.append(fTnT_list)\n",
    "    fTnT_list = []"
   ]
  },
  {
   "cell_type": "code",
   "execution_count": 28,
   "metadata": {},
   "outputs": [],
   "source": [
    "portion = int(0.1 * len(tTnT_list))\n",
    "\n",
    "train1K = t_list[:portion]\n",
    "train2K = t_list[portion:portion*2]\n",
    "train3K = t_list[portion*2:portion*3]\n",
    "train4K = t_list[portion*3:portion*4]\n",
    "train5K = t_list[portion*4:portion*5]\n",
    "train6K = t_list[portion*5:portion*6]\n",
    "train7K = t_list[portion*6:portion*7]\n",
    "train8K = t_list[portion*7:portion*8]\n",
    "train9K = t_list[portion*8:portion*9]\n",
    "train10K = t_list[portion*9:portion*10]\n",
    "\n",
    "complete_Tnt = train1K + train2K + train3K + train4K + train5K + train6K + train7K + train8K + train9K + train10K\n",
    "\n",
    "from random import shuffle\n",
    "\n",
    "shuffle(complete_Tnt)\n",
    "\n",
    "train_list = []\n",
    "test_list = []\n",
    "allof = []\n",
    "\n",
    "def TnTtagger(training_data, test_data):\n",
    "    # initializing tagger \n",
    "    tnt_tagging = tnt.TnT(unk = sufix_tag, Trained = True) \n",
    "    # training  \n",
    "    tnt_tagging.train(training_data) \n",
    "    # evaluating \n",
    "    return tnt_tagging.evaluate(test_data) \n",
    "    \n",
    "for flag in range(10):\n",
    "    for i in range(10):\n",
    "        if i == flag:\n",
    "            test_list = complete_Tnt[portion*(i):portion*(i+1)]\n",
    "        else:\n",
    "            train_list.append(complete_Tnt[portion*(i):portion*(i+1)])\n",
    "    train_list = train_list[0] + train_list[1] + train_list[2] + train_list[3] + train_list[4] + train_list[5] + train_list[6] + train_list[7] + train_list[8]\n",
    "    allof.append(TnTtagger(train_list, test_list))\n",
    "    train_list.clear()\n",
    "    test_list.clear()"
   ]
  },
  {
   "cell_type": "code",
   "execution_count": 29,
   "metadata": {},
   "outputs": [
    {
     "name": "stdout",
     "output_type": "stream",
     "text": [
      "Complete dataset accuracy\n",
      "\n",
      "0.9376175707966852\n",
      "0.9386066690208343\n",
      "0.9417470637583892\n",
      "0.939386149812349\n",
      "0.9379813331973275\n",
      "0.9380873997769872\n",
      "0.940690300447032\n",
      "0.9405924739791833\n",
      "0.9401790416008425\n",
      "0.9397965538717044\n"
     ]
    }
   ],
   "source": [
    "print(\"Complete dataset accuracy\\n\")\n",
    "for i in allof:\n",
    "    print(i)"
   ]
  },
  {
   "cell_type": "code",
   "execution_count": 32,
   "metadata": {},
   "outputs": [
    {
     "data": {
      "image/png": "[encoded data removed]",
      "text/plain": [
       "<Figure size 432x288 with 1 Axes>"
      ]
     },
     "metadata": {
      "needs_background": "light"
     },
     "output_type": "display_data"
    }
   ],
   "source": [
    "# Tnt Model for complete data set\n",
    "import matplotlib.pyplot as plt\n",
    "x=[i for i in range(10)]\n",
    "y=allof\n",
    "plt.axis([-1, 10, 0.91, 0.97])\n",
    "plt.ylabel('Accuracy')\n",
    "plt.xlabel('Fold')\n",
    "plt.title('TnT Model with smoothing - AffixTagger')\n",
    "plt.plot(x,y,'ro')\n",
    "plt.errorbar(x,y,yerr=allof,linestyle='None')\n",
    "plt.show()"
   ]
  },
  {
   "cell_type": "code",
   "execution_count": null,
   "metadata": {},
   "outputs": [],
   "source": []
  }
 ],
 "metadata": {
  "kernelspec": {
   "display_name": "Python 3",
   "language": "python",
   "name": "python3"
  },
  "language_info": {
   "codemirror_mode": {
    "name": "ipython",
    "version": 3
   },
   "file_extension": ".py",
   "mimetype": "text/x-python",
   "name": "python",
   "nbconvert_exporter": "python",
   "pygments_lexer": "ipython3",
   "version": "3.8.3"
  }
 },
 "nbformat": 4,
 "nbformat_minor": 4
}
