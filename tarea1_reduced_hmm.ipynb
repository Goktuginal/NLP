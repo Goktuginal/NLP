{
 "cells": [
  {
   "cell_type": "code",
   "execution_count": 2,
   "metadata": {},
   "outputs": [
    {
     "name": "stdout",
     "output_type": "stream",
     "text": [
      "showing info https://raw.githubusercontent.com/nltk/nltk_data/gh-pages/index.xml\n"
     ]
    },
    {
     "data": {
      "text/plain": [
       "True"
      ]
     },
     "execution_count": 2,
     "metadata": {},
     "output_type": "execute_result"
    }
   ],
   "source": [
    "nltk.download()"
   ]
  },
  {
   "cell_type": "code",
   "execution_count": 10,
   "metadata": {},
   "outputs": [
    {
     "name": "stdout",
     "output_type": "stream",
     "text": [
      "9.0\n"
     ]
    }
   ],
   "source": [
    "# Reduced cess-esp data\n",
    "\n",
    "import nltk\n",
    "from nltk import *\n",
    "from nltk.tag import hmm\n",
    "\n",
    "\n",
    "s_tagged = nltk.corpus.cess_esp.tagged_sents()\n",
    "\n",
    "list1 = []\n",
    "list2 = []\n",
    "\n",
    "for sent in s_tagged:\n",
    "    for word, tag in sent:\n",
    "        n_tag = re.findall(r'^v[a-z]{,2}|^F[a-z]{,2}|^d[a-z]{,1}|^n[a-z]{,1}|^a[a-z]{,1}|^s[a-z]{,1}|^Z[a-z]{,1}|^W[a-z]{,1}|^p[a-z]{,1}', tag)\n",
    "        listToStr = ' '.join(map(str, n_tag)) \n",
    "        list2.append((word,listToStr))\n",
    "    list1.append(list2)\n",
    "    list2 = []\n",
    "    \n",
    "cut = int(0.9 * len(list1))\n",
    "training_data = list1[:cut]\n",
    "test_data = list1[cut:]\n",
    "text == training_data + test_data                      #True\n",
    "print(len(training_data) / len(test_data))"
   ]
  },
  {
   "cell_type": "code",
   "execution_count": 11,
   "metadata": {},
   "outputs": [],
   "source": [
    "from random import shuffle\n",
    "\n",
    "portion = int(0.1 * len(list1))\n",
    "\n",
    "train1K = list1[:portion]\n",
    "train2K = list1[portion:portion*2]\n",
    "train3K = list1[portion*2:portion*3]\n",
    "train4K = list1[portion*3:portion*4]\n",
    "train5K = list1[portion*4:portion*5]\n",
    "train6K = list1[portion*5:portion*6]\n",
    "train7K = list1[portion*6:portion*7]\n",
    "train8K = list1[portion*7:portion*8]\n",
    "train9K = list1[portion*8:portion*9]\n",
    "train10K = list1[portion*9:portion*10]\n",
    "\n",
    "total_list = train1K + train2K + train3K + train4K + train5K + train6K + train7K + train8K + train9K + train10K\n",
    "len(total_list)\n",
    "\n",
    "shuffle(total_list)\n",
    "\n",
    "train_list = []\n",
    "test_list = []\n",
    "allof = []\n",
    "\n",
    "def hmm(training_data, test_data):\n",
    "    hmm_tagger = nltk.HiddenMarkovModelTagger.train(training_data)\n",
    "    return hmm_tagger.evaluate(test_data)\n",
    "    \n",
    "for flag in range(10):\n",
    "    for i in range(10):\n",
    "        if i == flag:\n",
    "            test_list = total_list[portion*(i):portion*(i+1)]\n",
    "        else:\n",
    "            train_list.append(total_list[portion*(i):portion*(i+1)])\n",
    "    train_list = train_list[0] + train_list[1] + train_list[2] + train_list[3] + train_list[4] + train_list[5] + train_list[6] + train_list[7] + train_list[8]\n",
    "    allof.append(hmm(train_list, test_list))\n",
    "    train_list.clear()\n",
    "    test_list.clear()"
   ]
  },
  {
   "cell_type": "code",
   "execution_count": 35,
   "metadata": {},
   "outputs": [
    {
     "name": "stdout",
     "output_type": "stream",
     "text": [
      "Reduced dataset accuracy\n",
      "\n",
      "0.9323499491353001\n",
      "0.9278691864907544\n",
      "0.9291930804770603\n",
      "0.9253144247192174\n",
      "0.9270926618553442\n",
      "0.9301611665387567\n",
      "0.930277836245001\n",
      "0.9279080749252322\n",
      "0.9285017206841646\n",
      "0.923659793814433\n"
     ]
    }
   ],
   "source": [
    "print(\"Reduced dataset accuracy\\n\")\n",
    "for i in allof:\n",
    "    print(i)"
   ]
  },
  {
   "cell_type": "code",
   "execution_count": 25,
   "metadata": {},
   "outputs": [
    {
     "data": {
      "image/png": "[encoded data removed]",
      "text/plain": [
       "<Figure size 432x288 with 1 Axes>"
      ]
     },
     "metadata": {
      "needs_background": "light"
     },
     "output_type": "display_data"
    }
   ],
   "source": [
    "# Hidden Markov Model for reduced data set\n",
    "import matplotlib.pyplot as plt\n",
    "x=[i for i in range(10)]\n",
    "y=allof\n",
    "plt.axis([-1, 10, 0.89, 0.95])\n",
    "plt.ylabel('Accuracy')\n",
    "plt.xlabel('Fold')\n",
    "plt.title('Ten-fold cross validation')\n",
    "plt.plot(x,y,'ro')\n",
    "plt.errorbar(x,y,yerr=allof,linestyle='None')\n",
    "plt.show()"
   ]
  },
  {
   "cell_type": "code",
   "execution_count": null,
   "metadata": {},
   "outputs": [],
   "source": []
  },
  {
   "cell_type": "code",
   "execution_count": null,
   "metadata": {},
   "outputs": [],
   "source": []
  },
  {
   "cell_type": "code",
   "execution_count": null,
   "metadata": {},
   "outputs": [],
   "source": []
  },
  {
   "cell_type": "code",
   "execution_count": null,
   "metadata": {},
   "outputs": [],
   "source": []
  }
 ],
 "metadata": {
  "kernelspec": {
   "display_name": "Python 3",
   "language": "python",
   "name": "python3"
  },
  "language_info": {
   "codemirror_mode": {
    "name": "ipython",
    "version": 3
   },
   "file_extension": ".py",
   "mimetype": "text/x-python",
   "name": "python",
   "nbconvert_exporter": "python",
   "pygments_lexer": "ipython3",
   "version": "3.8.3"
  }
 },
 "nbformat": 4,
 "nbformat_minor": 4
}
