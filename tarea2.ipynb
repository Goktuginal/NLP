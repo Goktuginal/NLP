{
 "cells": [
  {
   "cell_type": "code",
   "execution_count": 6,
   "metadata": {},
   "outputs": [],
   "source": [
    "import nltk\n",
    "from nltk import *\n",
    "from nltk.tag import hmm\n",
    "\n",
    "s_tagged = nltk.corpus.cess_esp.tagged_sents()"
   ]
  },
  {
   "cell_type": "code",
   "execution_count": 8,
   "metadata": {},
   "outputs": [],
   "source": [
    "portion = int(0.1 * len(s_tagged))\n",
    "\n",
    "train1K = s_tagged[:portion]\n",
    "train2K = s_tagged[portion:portion*2]\n",
    "train3K = s_tagged[portion*2:portion*3]\n",
    "train4K = s_tagged[portion*3:portion*4]\n",
    "train5K = s_tagged[portion*4:portion*5]\n",
    "train6K = s_tagged[portion*5:portion*6]\n",
    "train7K = s_tagged[portion*6:portion*7]\n",
    "train8K = s_tagged[portion*7:portion*8]\n",
    "train9K = s_tagged[portion*8:portion*9]\n",
    "\n",
    "# Test portion\n",
    "train10K = s_tagged[portion*9:portion*10]"
   ]
  },
  {
   "cell_type": "code",
   "execution_count": 9,
   "metadata": {},
   "outputs": [],
   "source": [
    "def hmm(training_data, test_data):\n",
    "    hmm_tagger = nltk.HiddenMarkovModelTagger.train(training_data)\n",
    "    return hmm_tagger.evaluate(test_data)"
   ]
  },
  {
   "cell_type": "code",
   "execution_count": 10,
   "metadata": {},
   "outputs": [
    {
     "name": "stdout",
     "output_type": "stream",
     "text": [
      "Test accuracy of 1 portion train set:  0.6905409273039497\n",
      "Test accuracy of 2 portion train set:  0.7469232970807098\n",
      "Test accuracy of 3 portion train set:  0.765812821980538\n",
      "Test accuracy of 4 portion train set:  0.7813394390383515\n",
      "Test accuracy of 5 portion train set:  0.7899971379507728\n",
      "Test accuracy of 6 portion train set:  0.8211934745277619\n",
      "Test accuracy of 7 portion train set:  0.8322839152833429\n",
      "Test accuracy of 8 portion train set:  0.8414424728105323\n",
      "Test accuracy of 9 portion train set:  0.8490269032627361\n"
     ]
    }
   ],
   "source": [
    "acc_1 = hmm(train1K, train10K)\n",
    "print(\"Test accuracy of 1 portion train set: \", acc_1)\n",
    "acc_2 = hmm(train1K + train2K, train10K)\n",
    "print(\"Test accuracy of 2 portion train set: \", acc_2)\n",
    "acc_3 = hmm(train1K + train2K + train3K, train10K)\n",
    "print(\"Test accuracy of 3 portion train set: \", acc_3)\n",
    "acc_4 = hmm(train1K + train2K + train3K + train4K, train10K)\n",
    "print(\"Test accuracy of 4 portion train set: \", acc_4)\n",
    "acc_5 = hmm(train1K + train2K + train3K + train4K + train5K, train10K)\n",
    "print(\"Test accuracy of 5 portion train set: \", acc_5)\n",
    "acc_6 = hmm(train1K + train2K + train3K + train4K + train5K + train6K, train10K)\n",
    "print(\"Test accuracy of 6 portion train set: \", acc_6)\n",
    "acc_7 = hmm(train1K + train2K + train3K + train4K + train5K + train6K + train7K, train10K)\n",
    "print(\"Test accuracy of 7 portion train set: \", acc_7)\n",
    "acc_8 = hmm(train1K + train2K + train3K + train4K + train5K + train6K + train7K + train8K, train10K)\n",
    "print(\"Test accuracy of 8 portion train set: \", acc_8)\n",
    "acc_9 = hmm(train1K + train2K + train3K + train4K + train5K + train6K + train7K + train8K + train9K, train10K)\n",
    "print(\"Test accuracy of 9 portion train set: \", acc_9)"
   ]
  },
  {
   "cell_type": "code",
   "execution_count": 24,
   "metadata": {},
   "outputs": [
    {
     "data": {
      "image/png": "[encoded data removed]",
      "text/plain": [
       "<Figure size 432x288 with 1 Axes>"
      ]
     },
     "metadata": {
      "needs_background": "light"
     },
     "output_type": "display_data"
    }
   ],
   "source": [
    "liste = [acc_1, acc_2, acc_3, acc_4, acc_5, acc_6, acc_7, acc_8, acc_9]\n",
    "\n",
    "# Hidden Markov Model for complete data set\n",
    "import matplotlib.pyplot as plt\n",
    "x=[i for i in range(9)]\n",
    "y=liste\n",
    "plt.axis([-1, 9, 0.67, 0.90])\n",
    "plt.ylabel('Accuracy')\n",
    "plt.xlabel('# of training dataset')\n",
    "plt.title('Evaluation of the performance of the tagger')\n",
    "plt.plot(x,y,'ro')\n",
    "plt.errorbar(x,y,yerr=liste,linestyle='None')\n",
    "plt.show()"
   ]
  },
  {
   "cell_type": "code",
   "execution_count": null,
   "metadata": {},
   "outputs": [],
   "source": []
  },
  {
   "cell_type": "code",
   "execution_count": null,
   "metadata": {},
   "outputs": [],
   "source": []
  },
  {
   "cell_type": "code",
   "execution_count": null,
   "metadata": {},
   "outputs": [],
   "source": []
  },
  {
   "cell_type": "code",
   "execution_count": null,
   "metadata": {},
   "outputs": [],
   "source": []
  },
  {
   "cell_type": "code",
   "execution_count": null,
   "metadata": {},
   "outputs": [],
   "source": []
  },
  {
   "cell_type": "code",
   "execution_count": null,
   "metadata": {},
   "outputs": [],
   "source": []
  },
  {
   "cell_type": "code",
   "execution_count": null,
   "metadata": {},
   "outputs": [],
   "source": []
  },
  {
   "cell_type": "code",
   "execution_count": null,
   "metadata": {},
   "outputs": [],
   "source": []
  },
  {
   "cell_type": "code",
   "execution_count": null,
   "metadata": {},
   "outputs": [],
   "source": []
  }
 ],
 "metadata": {
  "kernelspec": {
   "display_name": "Python 3",
   "language": "python",
   "name": "python3"
  },
  "language_info": {
   "codemirror_mode": {
    "name": "ipython",
    "version": 3
   },
   "file_extension": ".py",
   "mimetype": "text/x-python",
   "name": "python",
   "nbconvert_exporter": "python",
   "pygments_lexer": "ipython3",
   "version": "3.8.3"
  }
 },
 "nbformat": 4,
 "nbformat_minor": 4
}
