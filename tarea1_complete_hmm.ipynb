{
 "cells": [
  {
   "cell_type": "code",
   "execution_count": 8,
   "metadata": {},
   "outputs": [
    {
     "name": "stdout",
     "output_type": "stream",
     "text": [
      "9.0\n"
     ]
    }
   ],
   "source": [
    "# Complete dataset - cess-esp\n",
    "\n",
    "import nltk\n",
    "from nltk import *\n",
    "from nltk.tag import hmm\n",
    "\n",
    "\n",
    "s_tagged = nltk.corpus.cess_esp.tagged_sents()\n",
    "\n",
    "f_list = []\n",
    "t_list = []\n",
    "for sent in s_tagged:\n",
    "    for word, tag in sent:\n",
    "        f_list.append((word, tag))\n",
    "    t_list.append(f_list)\n",
    "    f_list = []\n",
    "    \n",
    "cut = int(0.9 * len(s_tagged))\n",
    "training_data = s_tagged[:cut]\n",
    "test_data = s_tagged[cut:]\n",
    "text == training_data + test_data                      #True\n",
    "print(len(training_data) / len(test_data))"
   ]
  },
  {
   "cell_type": "code",
   "execution_count": 12,
   "metadata": {},
   "outputs": [],
   "source": [
    "portion = int(0.1 * len(t_list))\n",
    "\n",
    "train1K = t_list[:portion]\n",
    "train2K = t_list[portion:portion*2]\n",
    "train3K = t_list[portion*2:portion*3]\n",
    "train4K = t_list[portion*3:portion*4]\n",
    "train5K = t_list[portion*4:portion*5]\n",
    "train6K = t_list[portion*5:portion*6]\n",
    "train7K = t_list[portion*6:portion*7]\n",
    "train8K = t_list[portion*7:portion*8]\n",
    "train9K = t_list[portion*8:portion*9]\n",
    "train10K = t_list[portion*9:portion*10]\n",
    "\n",
    "complete = train1K + train2K + train3K + train4K + train5K + train6K + train7K + train8K + train9K + train10K"
   ]
  },
  {
   "cell_type": "code",
   "execution_count": 13,
   "metadata": {},
   "outputs": [],
   "source": [
    "from random import shuffle\n",
    "\n",
    "shuffle(complete)\n",
    "\n",
    "train_list = []\n",
    "test_list = []\n",
    "allof = []\n",
    "\n",
    "def hmm(training_data, test_data):\n",
    "    hmm_tagger = nltk.HiddenMarkovModelTagger.train(training_data)\n",
    "    return hmm_tagger.evaluate(test_data)\n",
    "    \n",
    "for flag in range(10):\n",
    "    for i in range(10):\n",
    "        if i == flag:\n",
    "            test_list = complete[portion*(i):portion*(i+1)]\n",
    "        else:\n",
    "            train_list.append(complete[portion*(i):portion*(i+1)])\n",
    "    train_list = train_list[0] + train_list[1] + train_list[2] + train_list[3] + train_list[4] + train_list[5] + train_list[6] + train_list[7] + train_list[8]\n",
    "    allof.append(hmm(train_list, test_list))\n",
    "    train_list.clear()\n",
    "    test_list.clear()"
   ]
  },
  {
   "cell_type": "code",
   "execution_count": 14,
   "metadata": {},
   "outputs": [
    {
     "name": "stdout",
     "output_type": "stream",
     "text": [
      "Complete dataset accuracy\n",
      "\n",
      "0.8929632285158251\n",
      "0.899514687100894\n",
      "0.9004863253673587\n",
      "0.8972453222453223\n",
      "0.894800803127972\n",
      "0.8956846030900373\n",
      "0.8975382904513977\n",
      "0.8953549060542797\n",
      "0.9006981348338022\n",
      "0.8992212079013874\n"
     ]
    }
   ],
   "source": [
    "print(\"Complete dataset accuracy\\n\")\n",
    "for i in allof:\n",
    "    print(i)"
   ]
  },
  {
   "cell_type": "code",
   "execution_count": 16,
   "metadata": {},
   "outputs": [
    {
     "data": {
      "image/png": "[encoded data removed]",
      "text/plain": [
       "<Figure size 432x288 with 1 Axes>"
      ]
     },
     "metadata": {
      "needs_background": "light"
     },
     "output_type": "display_data"
    }
   ],
   "source": [
    "# Hidden Markov Model for complete data set\n",
    "import matplotlib.pyplot as plt\n",
    "x=[i for i in range(10)]\n",
    "y=allof\n",
    "plt.axis([-1, 10, 0.87, 0.93])\n",
    "plt.ylabel('Accuracy')\n",
    "plt.xlabel('Fold')\n",
    "plt.title('Ten-fold cross validation')\n",
    "plt.plot(x,y,'ro')\n",
    "plt.errorbar(x,y,yerr=allof,linestyle='None')\n",
    "plt.show()"
   ]
  },
  {
   "cell_type": "code",
   "execution_count": null,
   "metadata": {},
   "outputs": [],
   "source": []
  }
 ],
 "metadata": {
  "kernelspec": {
   "display_name": "Python 3",
   "language": "python",
   "name": "python3"
  },
  "language_info": {
   "codemirror_mode": {
    "name": "ipython",
    "version": 3
   },
   "file_extension": ".py",
   "mimetype": "text/x-python",
   "name": "python",
   "nbconvert_exporter": "python",
   "pygments_lexer": "ipython3",
   "version": "3.8.3"
  }
 },
 "nbformat": 4,
 "nbformat_minor": 4
}
